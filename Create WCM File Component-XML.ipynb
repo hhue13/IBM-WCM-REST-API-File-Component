{
 "cells": [
  {
   "cell_type": "markdown",
   "metadata": {},
   "source": [
    "# Creating WCM File Component using Python\n",
    "First specify the libraries needed.  In this example the Requests library was used to communicate with the Portal/WCM server.  \n",
    "Note: This example uses [Python f-strings](https://realpython.com/python-f-strings/) which were introduced in v3.6."
   ]
  },
  {
   "cell_type": "code",
   "execution_count": 1,
   "metadata": {},
   "outputs": [],
   "source": [
    "import requests\n",
    "import xml.etree.ElementTree as ET"
   ]
  },
  {
   "cell_type": "markdown",
   "metadata": {},
   "source": [
    "You'll need the URL for the WCM REST API.  I split this into two variables, and you'll see why a little later on.  Replace the `hostname:port` with your values in the `baseURL` variable."
   ]
  },
  {
   "cell_type": "code",
   "execution_count": 2,
   "metadata": {},
   "outputs": [],
   "source": [
    "baseURL = 'http://portal9.home.parrill.net:10039'\n",
    "restURL = f'{baseURL}/wps/mycontenthandler/wcmrest'"
   ]
  },
  {
   "cell_type": "markdown",
   "metadata": {},
   "source": [
    "Several of the WCM REST API calls are available in XML and JSON.  This example uses XML."
   ]
  },
  {
   "cell_type": "code",
   "execution_count": 3,
   "metadata": {},
   "outputs": [],
   "source": [
    "# Define the XML namespaces\n",
    "ns = {'atom': 'http://www.w3.org/2005/Atom',\n",
    "      'wcm': 'http://www.ibm.com/xmlns/wcm/8.0'}"
   ]
  },
  {
   "cell_type": "markdown",
   "metadata": {},
   "source": [
    "The first step is to get the UUID of the library which will contain the file component.  While this can be done using the user interface, it's more fun to do it programmatically.  In this example we'll search by the library title.  \n",
    "A library named `Test Upload` had been previously created."
   ]
  },
  {
   "cell_type": "code",
   "execution_count": 4,
   "metadata": {},
   "outputs": [
    {
     "name": "stdout",
     "output_type": "stream",
     "text": [
      "<?xml version=\"1.0\" encoding=\"UTF-8\"?><feed xmlns=\"http://www.w3.org/2005/Atom\" xmlns:wcm=\"http://www.ibm.com/xmlns/wcm/8.0\">\n",
      "    <id>wcmrest:query?titlelike=Test%20Upload<![CDATA[&type=Library]]></id>\n",
      "    <title>wcmrest:query?titlelike=Test%20Upload<![CDATA[&type=Library]]></title>\n",
      "    <updated>2018-11-09T22:53:19.991Z</updated>\n",
      "    <entry>\n",
      "        <id>wcmrest:38606f98-ffb1-4b8e-bd81-3a1692b748fe</id>\n",
      "        <title>Test Upload</title>\n",
      "        <summary/>\n",
      "        <wcm:type>Library</wcm:type>\n",
      "        <updated>2018-11-09T18:47:04.903Z</updated>\n",
      "        <link rel=\"edit\" href=\"/wps/mycontenthandler/!ut/p/digest!O-zK3jJTx-vVze4JgBmFiw/wcmrest/Library/38606f98-ffb1-4b8e-bd81-3a1692b748fe\" xml:lang=\"en\" label=\"Edit\"/>\n",
      "        <link rel=\"alternate\" href=\"/wps/mycontenthandler/!ut/p/digest!O-zK3jJTx-vVze4JgBmFiw/wcmrest/Library/38606f98-ffb1-4b8e-bd81-3a1692b748fe\" xml:lang=\"en\" label=\"Read\"/>\n",
      "        <link rel=\"library\" href=\"/wps/mycontenthandler/!ut/p/digest!O-zK3jJTx-vVze4JgBmFiw/wcmrest/Library/38606f98-ffb1-4b8e-bd81-3a1692b748fe\" xml:lang=\"en\" label=\"Library\"/>\n",
      "    </entry>\n",
      "</feed>\n",
      "The library ID is: 38606f98-ffb1-4b8e-bd81-3a1692b748fe\n"
     ]
    }
   ],
   "source": [
    "# Initialize our Requests session parameters.  You'll want to replace the credentials with ones for your own environment\n",
    "s = requests.Session()\n",
    "s.auth=('wpsadmin', 'password')  # Normally you wouldn't hard-code something like this!\n",
    "\n",
    "# Use the Query function to find the title we're looking for.  If you know the exact name you can use\n",
    "# the 'title' query parameter, or you can use 'titlelike' if you have a partial name.\n",
    "# If mulitple matches are found this example is only using the first match\n",
    "libName = 'Test Upload'\n",
    "r = s.get(f'{restURL}/query?type=Library&titlelike={libName}')\n",
    "root = ET.fromstring(r.text)\n",
    "id = root.find('atom:entry/atom:id', ns).text\n",
    "libID = id.split(':')[1]\n",
    "\n",
    "print(r.text)\n",
    "print(f'The library ID is: {libID}')"
   ]
  },
  {
   "cell_type": "code",
   "execution_count": 5,
   "metadata": {},
   "outputs": [
    {
     "data": {
      "text/plain": [
       "'<?xml version=\"1.0\" encoding=\"UTF-8\"?><feed xmlns=\"http://www.w3.org/2005/Atom\" xmlns:wcm=\"http://www.ibm.com/xmlns/wcm/8.0\">\\n    <id>wcmrest:query?titlelike=Test%20Upload<![CDATA[&type=Library]]></id>\\n    <title>wcmrest:query?titlelike=Test%20Upload<![CDATA[&type=Library]]></title>\\n    <updated>2018-11-09T22:53:19.991Z</updated>\\n    <entry>\\n        <id>wcmrest:38606f98-ffb1-4b8e-bd81-3a1692b748fe</id>\\n        <title>Test Upload</title>\\n        <summary/>\\n        <wcm:type>Library</wcm:type>\\n        <updated>2018-11-09T18:47:04.903Z</updated>\\n        <link rel=\"edit\" href=\"/wps/mycontenthandler/!ut/p/digest!O-zK3jJTx-vVze4JgBmFiw/wcmrest/Library/38606f98-ffb1-4b8e-bd81-3a1692b748fe\" xml:lang=\"en\" label=\"Edit\"/>\\n        <link rel=\"alternate\" href=\"/wps/mycontenthandler/!ut/p/digest!O-zK3jJTx-vVze4JgBmFiw/wcmrest/Library/38606f98-ffb1-4b8e-bd81-3a1692b748fe\" xml:lang=\"en\" label=\"Read\"/>\\n        <link rel=\"library\" href=\"/wps/mycontenthandler/!ut/p/digest!O-zK3jJTx-vVze4JgBmFiw/wcmrest/Library/38606f98-ffb1-4b8e-bd81-3a1692b748fe\" xml:lang=\"en\" label=\"Library\"/>\\n    </entry>\\n</feed>'"
      ]
     },
     "execution_count": 5,
     "metadata": {},
     "output_type": "execute_result"
    }
   ],
   "source": [
    "r.text"
   ]
  },
  {
   "cell_type": "markdown",
   "metadata": {},
   "source": [
    "In addition to the library ID, the library link will also be required.  This could be parsed out of the info above, but in this example we're making a call to the library object to get additional information about it.  \n",
    "The `<link rel=\"self\" ... >` tag is the one to be parsed for the URL."
   ]
  },
  {
   "cell_type": "code",
   "execution_count": 6,
   "metadata": {},
   "outputs": [
    {
     "name": "stdout",
     "output_type": "stream",
     "text": [
      "<?xml version=\"1.0\" encoding=\"UTF-8\"?><entry xmlns=\"http://www.w3.org/2005/Atom\" xmlns:wcm=\"http://www.ibm.com/xmlns/wcm/8.0\">\n",
      "    <id>wcmrest:38606f98-ffb1-4b8e-bd81-3a1692b748fe</id>\n",
      "    <title>Test Upload</title>\n",
      "    <summary/>\n",
      "    <wcm:name>test upload</wcm:name>\n",
      "    <wcm:type>Library</wcm:type>\n",
      "    <updated>2018-11-09T18:47:04.903Z</updated>\n",
      "    <link rel=\"self\" href=\"/wps/mycontenthandler/!ut/p/digest!O-zK3jJTx-vVze4JgBmFiw/wcmrest/Library/38606f98-ffb1-4b8e-bd81-3a1692b748fe\" xml:lang=\"en\" label=\"Read\"/>\n",
      "    <link rel=\"edit\" href=\"/wps/mycontenthandler/!ut/p/digest!O-zK3jJTx-vVze4JgBmFiw/wcmrest/Library/38606f98-ffb1-4b8e-bd81-3a1692b748fe\" xml:lang=\"en\" label=\"Edit\"/>\n",
      "    <link rel=\"delete\" href=\"/wps/mycontenthandler/!ut/p/digest!O-zK3jJTx-vVze4JgBmFiw/wcmrest/Library/38606f98-ffb1-4b8e-bd81-3a1692b748fe\" xml:lang=\"en\" label=\"Delete\"/>\n",
      "    <link rel=\"access-control\" href=\"/wps/mycontenthandler/!ut/p/digest!O-zK3jJTx-vVze4JgBmFiw/ac/access:oid:Z6QReDeJ1EC3OO66BEGJMOC6JO2JMG623EAMM8C43E2JMC61BCCJS862RD83SOC53\" xml:lang=\"en\" label=\"Access Control\"/>\n",
      "    <link rel=\"edit-media\" href=\"/wps/mycontenthandler/!ut/p/digest!O-zK3jJTx-vVze4JgBmFiw/wcmrest/Library/38606f98-ffb1-4b8e-bd81-3a1692b748fe\" type=\"application/vnd.ibm.wcm+xml\" xml:lang=\"en\" label=\"Edit Media\"/>\n",
      "    <link rel=\"preset-folders\" href=\"/wps/mycontenthandler/!ut/p/digest!O-zK3jJTx-vVze4JgBmFiw/wcmrest/Library/38606f98-ffb1-4b8e-bd81-3a1692b748fe/preset-folders\"/>\n",
      "    <link rel=\"version-discordance\" href=\"/wps/mycontenthandler/!ut/p/digest!O-zK3jJTx-vVze4JgBmFiw/wcmrest/Library/38606f98-ffb1-4b8e-bd81-3a1692b748fe/version-discordance\"/>\n",
      "    <content type=\"application/vnd.ibm.wcm+xml\">\n",
      "        <wcm:library xmlns=\"http://www.ibm.com/xmlns/wcm/8.0\">\n",
      "            <allowDeletion>true</allowDeletion>\n",
      "            <enabled>true</enabled>\n",
      "            <language>en</language>\n",
      "        </wcm:library>\n",
      "    </content>\n",
      "</entry>\n",
      "The library link is: /wps/mycontenthandler/!ut/p/digest!O-zK3jJTx-vVze4JgBmFiw/wcmrest/Library/38606f98-ffb1-4b8e-bd81-3a1692b748fe\n"
     ]
    }
   ],
   "source": [
    "r = s.get(f'{restURL}/Library/{libID}')\n",
    "root = ET.fromstring(r.text)\n",
    "libLnk = root.find('atom:link/[@rel=\"self\"]', ns).attrib['href']\n",
    "\n",
    "print(r.text)\n",
    "print(f'The library link is: {libLnk}')"
   ]
  },
  {
   "cell_type": "markdown",
   "metadata": {},
   "source": [
    "Notice the library link is a relative path starting with `/wps/mycontenthandler/...`"
   ]
  },
  {
   "cell_type": "markdown",
   "metadata": {},
   "source": [
    "Next, create the XML which will be sent with the request to create the file component.  This example just creates a raw string with the desired inputs.  Be sure to specify the `href=` parameter using the link to your library.  Adjust the `title`, `name`, and `description` fields as needed."
   ]
  },
  {
   "cell_type": "code",
   "execution_count": 7,
   "metadata": {},
   "outputs": [],
   "source": [
    "fileXML = f'<entry xmlns=\"http://www.w3.org/2005/Atom\" xmlns:wcm=\"wcm/namespace\"> \\\n",
    "        <title>Programmatic Test File Component 1</title> \\\n",
    "        <link rel=\"library\" href=\"{libLnk}\"/> \\\n",
    "        <wcm:name>ProgTestFileComponent1</wcm:name> \\\n",
    "        <wcm:description>This is test file component uploaded from Python</wcm:description> \\\n",
    "    </entry>'"
   ]
  },
  {
   "cell_type": "markdown",
   "metadata": {},
   "source": [
    "Now call the POST interface to create the new file component.  Note that the file is not yet included.  Be sure to save the UUID of the new file component since that will be needed shortly."
   ]
  },
  {
   "cell_type": "code",
   "execution_count": 8,
   "metadata": {},
   "outputs": [
    {
     "name": "stdout",
     "output_type": "stream",
     "text": [
      "<?xml version=\"1.0\" encoding=\"UTF-8\"?><entry xmlns=\"http://www.w3.org/2005/Atom\" xmlns:wcm=\"http://www.ibm.com/xmlns/wcm/8.0\">\n",
      "    <id>wcmrest:c03f61f4-eaaa-4dc7-830e-94f6e5f11a6e</id>\n",
      "    <title xml:lang=\"en\">Programmatic Test File Component 1</title>\n",
      "    <summary xml:lang=\"en\"></summary>\n",
      "    <wcm:name>ProgTestFileComponent1</wcm:name>\n",
      "    <wcm:type>LibraryFileComponent</wcm:type>\n",
      "    <updated>2018-11-09T22:53:20.174Z</updated>\n",
      "    <wcm:created>2018-11-09T22:53:20.174Z</wcm:created>\n",
      "    <author>\n",
      "        <wcm:distinguishedName>uid=wpsadmin,o=defaultWIMFileBasedRealm</wcm:distinguishedName>\n",
      "        <uri>/wps/mycontenthandler/!ut/p/digest!O-zK3jJTx-vVze4JgBmFiw/um/users/profiles/Z9eAeG1CA6R8643D4JM07GPD8MMG663PAJM4C43D4JM4CM9P43O86OPO83O4643</uri>\n",
      "        <name>wpsadmin</name>\n",
      "    </author>\n",
      "    <wcm:owner>\n",
      "        <wcm:distinguishedName>uid=wpsadmin,o=defaultWIMFileBasedRealm</wcm:distinguishedName>\n",
      "        <uri>/wps/mycontenthandler/!ut/p/digest!O-zK3jJTx-vVze4JgBmFiw/um/users/profiles/Z9eAeG1CA6R8643D4JM07GPD8MMG663PAJM4C43D4JM4CM9P43O86OPO83O4643</uri>\n",
      "        <name>wpsadmin</name>\n",
      "    </wcm:owner>\n",
      "    <wcm:lastModifier>\n",
      "        <wcm:distinguishedName>uid=wpsadmin,o=defaultWIMFileBasedRealm</wcm:distinguishedName>\n",
      "        <uri>/wps/mycontenthandler/!ut/p/digest!O-zK3jJTx-vVze4JgBmFiw/um/users/profiles/Z9eAeG1CA6R8643D4JM07GPD8MMG663PAJM4C43D4JM4CM9P43O86OPO83O4643</uri>\n",
      "        <name>wpsadmin</name>\n",
      "    </wcm:lastModifier>\n",
      "    <wcm:creator>\n",
      "        <wcm:distinguishedName>uid=wpsadmin,o=defaultWIMFileBasedRealm</wcm:distinguishedName>\n",
      "        <uri>/wps/mycontenthandler/!ut/p/digest!O-zK3jJTx-vVze4JgBmFiw/um/users/profiles/Z9eAeG1CA6R8643D4JM07GPD8MMG663PAJM4C43D4JM4CM9P43O86OPO83O4643</uri>\n",
      "        <name>wpsadmin</name>\n",
      "    </wcm:creator>\n",
      "    <wcm:profile/>\n",
      "    <link rel=\"self\" href=\"/wps/mycontenthandler/!ut/p/digest!O-zK3jJTx-vVze4JgBmFiw/wcmrest/LibraryFileComponent/c03f61f4-eaaa-4dc7-830e-94f6e5f11a6e\" xml:lang=\"en\" label=\"Read\"/>\n",
      "    <link rel=\"edit\" href=\"/wps/mycontenthandler/!ut/p/digest!O-zK3jJTx-vVze4JgBmFiw/wcmrest/LibraryFileComponent/c03f61f4-eaaa-4dc7-830e-94f6e5f11a6e\" xml:lang=\"en\" label=\"Edit\"/>\n",
      "    <link rel=\"delete\" href=\"/wps/mycontenthandler/!ut/p/digest!O-zK3jJTx-vVze4JgBmFiw/wcmrest/LibraryFileComponent/c03f61f4-eaaa-4dc7-830e-94f6e5f11a6e\" xml:lang=\"en\" label=\"Delete\"/>\n",
      "    <link rel=\"create-draft\" href=\"/wps/mycontenthandler/!ut/p/digest!O-zK3jJTx-vVze4JgBmFiw/wcmrest/item/c03f61f4-eaaa-4dc7-830e-94f6e5f11a6e/create-draft\" xml:lang=\"en\" label=\"Create Draft\"/>\n",
      "    <link rel=\"change-to-draft\" href=\"/wps/mycontenthandler/!ut/p/digest!O-zK3jJTx-vVze4JgBmFiw/wcmrest/item/c03f61f4-eaaa-4dc7-830e-94f6e5f11a6e/change-to-draft\" xml:lang=\"en\" label=\"Change To Draft\"/>\n",
      "    <link rel=\"access-control\" href=\"/wps/mycontenthandler/!ut/p/digest!O-zK3jJTx-vVze4JgBmFiw/ac/access:oid:Z6QReDe33C63JP6HHP8JMKC1BO2MMG64ROEJM07J1CAMM47KHPCJIL66BC2JGP653\" xml:lang=\"en\" label=\"Access Control\"/>\n",
      "    <link rel=\"library\" href=\"/wps/mycontenthandler/!ut/p/digest!O-zK3jJTx-vVze4JgBmFiw/wcmrest/Library/38606f98-ffb1-4b8e-bd81-3a1692b748fe\" xml:lang=\"en\" label=\"Library\"/>\n",
      "    <link rel=\"versions\" href=\"/wps/mycontenthandler/!ut/p/digest!O-zK3jJTx-vVze4JgBmFiw/wcmrest/item/c03f61f4-eaaa-4dc7-830e-94f6e5f11a6e/versions\" xml:lang=\"en\" label=\"Versions\"/>\n",
      "    <link rel=\"edit-media\" href=\"/wps/mycontenthandler/!ut/p/digest!O-zK3jJTx-vVze4JgBmFiw/wcmrest/LibraryFileComponent/c03f61f4-eaaa-4dc7-830e-94f6e5f11a6e\" type=\"application/vnd.ibm.wcm+xml\" xml:lang=\"en\" label=\"Edit Media\"/>\n",
      "    <link rel=\"edit-media\" href=\"/wps/mycontenthandler/!ut/p/digest!O-zK3jJTx-vVze4JgBmFiw/wcmrest/LibraryFileComponent/c03f61f4-eaaa-4dc7-830e-94f6e5f11a6e\" type=\"*/*\" xml:lang=\"en\" label=\"Edit Media\"/>\n",
      "    <category scheme=\"wcmrest:workflowState\" term=\"PUBLISHED\" label=\"Published\" xml:lang=\"en\"/>\n",
      "    <category scheme=\"wcmrest:favorite\" term=\"false\" xml:lang=\"en\"/>\n",
      "    <content/>\n",
      "</entry>\n",
      "The file ID is: c03f61f4-eaaa-4dc7-830e-94f6e5f11a6e\n"
     ]
    }
   ],
   "source": [
    "r = s.post(f'{restURL}/LibraryFileComponent',\n",
    "                data = fileXML,\n",
    "                headers={'Content-Type':'application/atom+xml'})\n",
    "root = ET.fromstring(r.text)\n",
    "id = root.find('atom:id', ns).text\n",
    "fileID = id.split(':')[1]\n",
    "\n",
    "print(r.text)\n",
    "print(f'The file ID is: {fileID}')"
   ]
  },
  {
   "cell_type": "markdown",
   "metadata": {},
   "source": [
    "If successful the file may now be added to the component using the PUT command.  The file is added as binary data, and be sure to specify the file's UUID in the command.\n",
    "This example uses a local file named `TEST.PDF`."
   ]
  },
  {
   "cell_type": "code",
   "execution_count": 9,
   "metadata": {},
   "outputs": [
    {
     "name": "stdout",
     "output_type": "stream",
     "text": [
      "<?xml version=\"1.0\" encoding=\"UTF-8\"?><entry xmlns=\"http://www.w3.org/2005/Atom\" xmlns:wcm=\"http://www.ibm.com/xmlns/wcm/8.0\">\n",
      "    <id>wcmrest:c03f61f4-eaaa-4dc7-830e-94f6e5f11a6e</id>\n",
      "    <title xml:lang=\"en\">Programmatic Test File Component 1</title>\n",
      "    <summary xml:lang=\"en\"></summary>\n",
      "    <wcm:name>ProgTestFileComponent1</wcm:name>\n",
      "    <wcm:type>LibraryFileComponent</wcm:type>\n",
      "    <updated>2018-11-09T22:53:20.664Z</updated>\n",
      "    <wcm:created>2018-11-09T22:53:20.174Z</wcm:created>\n",
      "    <author>\n",
      "        <wcm:distinguishedName>uid=wpsadmin,o=defaultWIMFileBasedRealm</wcm:distinguishedName>\n",
      "        <uri>/wps/mycontenthandler/!ut/p/digest!O-zK3jJTx-vVze4JgBmFiw/um/users/profiles/Z9eAeG1CA6R8643D4JM07GPD8MMG663PAJM4C43D4JM4CM9P43O86OPO83O4643</uri>\n",
      "        <name>wpsadmin</name>\n",
      "    </author>\n",
      "    <wcm:owner>\n",
      "        <wcm:distinguishedName>uid=wpsadmin,o=defaultWIMFileBasedRealm</wcm:distinguishedName>\n",
      "        <uri>/wps/mycontenthandler/!ut/p/digest!O-zK3jJTx-vVze4JgBmFiw/um/users/profiles/Z9eAeG1CA6R8643D4JM07GPD8MMG663PAJM4C43D4JM4CM9P43O86OPO83O4643</uri>\n",
      "        <name>wpsadmin</name>\n",
      "    </wcm:owner>\n",
      "    <wcm:lastModifier>\n",
      "        <wcm:distinguishedName>uid=wpsadmin,o=defaultWIMFileBasedRealm</wcm:distinguishedName>\n",
      "        <uri>/wps/mycontenthandler/!ut/p/digest!O-zK3jJTx-vVze4JgBmFiw/um/users/profiles/Z9eAeG1CA6R8643D4JM07GPD8MMG663PAJM4C43D4JM4CM9P43O86OPO83O4643</uri>\n",
      "        <name>wpsadmin</name>\n",
      "    </wcm:lastModifier>\n",
      "    <wcm:creator>\n",
      "        <wcm:distinguishedName>uid=wpsadmin,o=defaultWIMFileBasedRealm</wcm:distinguishedName>\n",
      "        <uri>/wps/mycontenthandler/!ut/p/digest!O-zK3jJTx-vVze4JgBmFiw/um/users/profiles/Z9eAeG1CA6R8643D4JM07GPD8MMG663PAJM4C43D4JM4CM9P43O86OPO83O4643</uri>\n",
      "        <name>wpsadmin</name>\n",
      "    </wcm:creator>\n",
      "    <wcm:profile/>\n",
      "    <link rel=\"self\" href=\"/wps/mycontenthandler/!ut/p/digest!O-zK3jJTx-vVze4JgBmFiw/wcmrest/LibraryFileComponent/c03f61f4-eaaa-4dc7-830e-94f6e5f11a6e\" xml:lang=\"en\" label=\"Read\"/>\n",
      "    <link rel=\"edit\" href=\"/wps/mycontenthandler/!ut/p/digest!O-zK3jJTx-vVze4JgBmFiw/wcmrest/LibraryFileComponent/c03f61f4-eaaa-4dc7-830e-94f6e5f11a6e\" xml:lang=\"en\" label=\"Edit\"/>\n",
      "    <link rel=\"delete\" href=\"/wps/mycontenthandler/!ut/p/digest!O-zK3jJTx-vVze4JgBmFiw/wcmrest/LibraryFileComponent/c03f61f4-eaaa-4dc7-830e-94f6e5f11a6e\" xml:lang=\"en\" label=\"Delete\"/>\n",
      "    <link rel=\"create-draft\" href=\"/wps/mycontenthandler/!ut/p/digest!O-zK3jJTx-vVze4JgBmFiw/wcmrest/item/c03f61f4-eaaa-4dc7-830e-94f6e5f11a6e/create-draft\" xml:lang=\"en\" label=\"Create Draft\"/>\n",
      "    <link rel=\"change-to-draft\" href=\"/wps/mycontenthandler/!ut/p/digest!O-zK3jJTx-vVze4JgBmFiw/wcmrest/item/c03f61f4-eaaa-4dc7-830e-94f6e5f11a6e/change-to-draft\" xml:lang=\"en\" label=\"Change To Draft\"/>\n",
      "    <link rel=\"access-control\" href=\"/wps/mycontenthandler/!ut/p/digest!O-zK3jJTx-vVze4JgBmFiw/ac/access:oid:Z6QReDe33C63JP6HHP8JMKC1BO2MMG64ROEJM07J1CAMM47KHPCJIL66BC2JGP653\" xml:lang=\"en\" label=\"Access Control\"/>\n",
      "    <link rel=\"library\" href=\"/wps/mycontenthandler/!ut/p/digest!O-zK3jJTx-vVze4JgBmFiw/wcmrest/Library/38606f98-ffb1-4b8e-bd81-3a1692b748fe\" xml:lang=\"en\" label=\"Library\"/>\n",
      "    <link rel=\"versions\" href=\"/wps/mycontenthandler/!ut/p/digest!O-zK3jJTx-vVze4JgBmFiw/wcmrest/item/c03f61f4-eaaa-4dc7-830e-94f6e5f11a6e/versions\" xml:lang=\"en\" label=\"Versions\"/>\n",
      "    <link rel=\"edit-media\" href=\"/wps/mycontenthandler/!ut/p/digest!O-zK3jJTx-vVze4JgBmFiw/wcmrest/LibraryFileComponent/c03f61f4-eaaa-4dc7-830e-94f6e5f11a6e\" type=\"application/vnd.ibm.wcm+xml\" xml:lang=\"en\" label=\"Edit Media\"/>\n",
      "    <link rel=\"edit-media\" href=\"/wps/mycontenthandler/!ut/p/digest!O-zK3jJTx-vVze4JgBmFiw/wcmrest/LibraryFileComponent/c03f61f4-eaaa-4dc7-830e-94f6e5f11a6e\" type=\"*/*\" xml:lang=\"en\" label=\"Edit Media\"/>\n",
      "    <category scheme=\"wcmrest:workflowState\" term=\"PUBLISHED\" label=\"Published\" xml:lang=\"en\"/>\n",
      "    <category scheme=\"wcmrest:favorite\" term=\"false\" xml:lang=\"en\"/>\n",
      "    <content type=\"application/vnd.ibm.wcm+xml\">\n",
      "        <wcm:resourceUri type=\"application/pdf\">/wps/wcm/myconnect/db9ffca9-2e45-4b8a-8106-f17516e7ebc8/1b23dfb5-6beb-4fb9-aa96-be237332d8a8.pdf?MOD=AJPERES<![CDATA[&CVID=mrWHwmo]]></wcm:resourceUri>\n",
      "    </content>\n",
      "</entry>\n"
     ]
    }
   ],
   "source": [
    "with open('TEST.PDF', mode='rb') as fh:\n",
    "    mydata = fh.read()\n",
    "r = s.put(f'{restURL}/LibraryFileComponent/{fileID}',\n",
    "          data = mydata,\n",
    "          headers={'Content-Type':'application/pdf'})\n",
    "\n",
    "print(r.text)"
   ]
  },
  {
   "cell_type": "markdown",
   "metadata": {},
   "source": [
    "Verify the item was created and the file is attached by going into the WCM authoring portlet and looking at the Components folder inside the library:  \n",
    "![alt text](Library_Item_Created.jpg)  \n",
    "View the details for the new file component:  \n",
    "![alt text](Library_Item_Details.jpg) "
   ]
  },
  {
   "cell_type": "markdown",
   "metadata": {},
   "source": [
    "## Retrieve the item\n",
    "The new file component can also be easily retrieved using the REST API as well.  \n",
    "The [WCM Query service](https://www.ibm.com/support/knowledgecenter/SSHRKX_8.5.0/mp/wcm/wcm_rest_adhoc.html) \n",
    "can be used to find the UUID of the item using a variety of search parameters.  In this case the UUID is already known from the file component created earlier.  \n",
    "A WCM component can be read by sending a GET request to the following URI: `/<library-component-api-type>/<itemuuid>`  \n",
    "The file component uses a type of `LibraryFileComponent`."
   ]
  },
  {
   "cell_type": "code",
   "execution_count": 10,
   "metadata": {},
   "outputs": [
    {
     "name": "stdout",
     "output_type": "stream",
     "text": [
      "<?xml version=\"1.0\" encoding=\"UTF-8\"?><entry xmlns=\"http://www.w3.org/2005/Atom\" xmlns:wcm=\"http://www.ibm.com/xmlns/wcm/8.0\">\n",
      "    <id>wcmrest:c03f61f4-eaaa-4dc7-830e-94f6e5f11a6e</id>\n",
      "    <title xml:lang=\"en\">Programmatic Test File Component 1</title>\n",
      "    <summary xml:lang=\"en\"></summary>\n",
      "    <wcm:name>ProgTestFileComponent1</wcm:name>\n",
      "    <wcm:type>LibraryFileComponent</wcm:type>\n",
      "    <updated>2018-11-09T22:53:20.664Z</updated>\n",
      "    <wcm:created>2018-11-09T22:53:20.174Z</wcm:created>\n",
      "    <author>\n",
      "        <wcm:distinguishedName>uid=wpsadmin,o=defaultWIMFileBasedRealm</wcm:distinguishedName>\n",
      "        <uri>/wps/mycontenthandler/!ut/p/digest!O-zK3jJTx-vVze4JgBmFiw/um/users/profiles/Z9eAeG1CA6R8643D4JM07GPD8MMG663PAJM4C43D4JM4CM9P43O86OPO83O4643</uri>\n",
      "        <name>wpsadmin</name>\n",
      "    </author>\n",
      "    <wcm:owner>\n",
      "        <wcm:distinguishedName>uid=wpsadmin,o=defaultWIMFileBasedRealm</wcm:distinguishedName>\n",
      "        <uri>/wps/mycontenthandler/!ut/p/digest!O-zK3jJTx-vVze4JgBmFiw/um/users/profiles/Z9eAeG1CA6R8643D4JM07GPD8MMG663PAJM4C43D4JM4CM9P43O86OPO83O4643</uri>\n",
      "        <name>wpsadmin</name>\n",
      "    </wcm:owner>\n",
      "    <wcm:lastModifier>\n",
      "        <wcm:distinguishedName>uid=wpsadmin,o=defaultWIMFileBasedRealm</wcm:distinguishedName>\n",
      "        <uri>/wps/mycontenthandler/!ut/p/digest!O-zK3jJTx-vVze4JgBmFiw/um/users/profiles/Z9eAeG1CA6R8643D4JM07GPD8MMG663PAJM4C43D4JM4CM9P43O86OPO83O4643</uri>\n",
      "        <name>wpsadmin</name>\n",
      "    </wcm:lastModifier>\n",
      "    <wcm:creator>\n",
      "        <wcm:distinguishedName>uid=wpsadmin,o=defaultWIMFileBasedRealm</wcm:distinguishedName>\n",
      "        <uri>/wps/mycontenthandler/!ut/p/digest!O-zK3jJTx-vVze4JgBmFiw/um/users/profiles/Z9eAeG1CA6R8643D4JM07GPD8MMG663PAJM4C43D4JM4CM9P43O86OPO83O4643</uri>\n",
      "        <name>wpsadmin</name>\n",
      "    </wcm:creator>\n",
      "    <wcm:profile/>\n",
      "    <link rel=\"self\" href=\"/wps/mycontenthandler/!ut/p/digest!O-zK3jJTx-vVze4JgBmFiw/wcmrest/LibraryFileComponent/c03f61f4-eaaa-4dc7-830e-94f6e5f11a6e\" xml:lang=\"en\" label=\"Read\"/>\n",
      "    <link rel=\"edit\" href=\"/wps/mycontenthandler/!ut/p/digest!O-zK3jJTx-vVze4JgBmFiw/wcmrest/LibraryFileComponent/c03f61f4-eaaa-4dc7-830e-94f6e5f11a6e\" xml:lang=\"en\" label=\"Edit\"/>\n",
      "    <link rel=\"delete\" href=\"/wps/mycontenthandler/!ut/p/digest!O-zK3jJTx-vVze4JgBmFiw/wcmrest/LibraryFileComponent/c03f61f4-eaaa-4dc7-830e-94f6e5f11a6e\" xml:lang=\"en\" label=\"Delete\"/>\n",
      "    <link rel=\"create-draft\" href=\"/wps/mycontenthandler/!ut/p/digest!O-zK3jJTx-vVze4JgBmFiw/wcmrest/item/c03f61f4-eaaa-4dc7-830e-94f6e5f11a6e/create-draft\" xml:lang=\"en\" label=\"Create Draft\"/>\n",
      "    <link rel=\"change-to-draft\" href=\"/wps/mycontenthandler/!ut/p/digest!O-zK3jJTx-vVze4JgBmFiw/wcmrest/item/c03f61f4-eaaa-4dc7-830e-94f6e5f11a6e/change-to-draft\" xml:lang=\"en\" label=\"Change To Draft\"/>\n",
      "    <link rel=\"access-control\" href=\"/wps/mycontenthandler/!ut/p/digest!O-zK3jJTx-vVze4JgBmFiw/ac/access:oid:Z6QReDe33C63JP6HHP8JMKC1BO2MMG64ROEJM07J1CAMM47KHPCJIL66BC2JGP653\" xml:lang=\"en\" label=\"Access Control\"/>\n",
      "    <link rel=\"library\" href=\"/wps/mycontenthandler/!ut/p/digest!O-zK3jJTx-vVze4JgBmFiw/wcmrest/Library/38606f98-ffb1-4b8e-bd81-3a1692b748fe\" xml:lang=\"en\" label=\"Library\"/>\n",
      "    <link rel=\"versions\" href=\"/wps/mycontenthandler/!ut/p/digest!O-zK3jJTx-vVze4JgBmFiw/wcmrest/item/c03f61f4-eaaa-4dc7-830e-94f6e5f11a6e/versions\" xml:lang=\"en\" label=\"Versions\"/>\n",
      "    <link rel=\"edit-media\" href=\"/wps/mycontenthandler/!ut/p/digest!O-zK3jJTx-vVze4JgBmFiw/wcmrest/LibraryFileComponent/c03f61f4-eaaa-4dc7-830e-94f6e5f11a6e\" type=\"application/vnd.ibm.wcm+xml\" xml:lang=\"en\" label=\"Edit Media\"/>\n",
      "    <link rel=\"edit-media\" href=\"/wps/mycontenthandler/!ut/p/digest!O-zK3jJTx-vVze4JgBmFiw/wcmrest/LibraryFileComponent/c03f61f4-eaaa-4dc7-830e-94f6e5f11a6e\" type=\"*/*\" xml:lang=\"en\" label=\"Edit Media\"/>\n",
      "    <category scheme=\"wcmrest:workflowState\" term=\"PUBLISHED\" label=\"Published\" xml:lang=\"en\"/>\n",
      "    <category scheme=\"wcmrest:favorite\" term=\"false\" xml:lang=\"en\"/>\n",
      "    <content type=\"application/vnd.ibm.wcm+xml\">\n",
      "        <wcm:resourceUri type=\"application/pdf\">/wps/wcm/myconnect/db9ffca9-2e45-4b8a-8106-f17516e7ebc8/1b23dfb5-6beb-4fb9-aa96-be237332d8a8.pdf?MOD=AJPERES<![CDATA[&CVID=mrWHwmo]]></wcm:resourceUri>\n",
      "    </content>\n",
      "</entry>\n"
     ]
    }
   ],
   "source": [
    "r = s.get(f'{restURL}/LibraryFileComponent/{fileID}')\n",
    "\n",
    "print(r.text)"
   ]
  },
  {
   "cell_type": "markdown",
   "metadata": {},
   "source": [
    "Parse the data to get the URL for the actual file attachment."
   ]
  },
  {
   "cell_type": "code",
   "execution_count": 11,
   "metadata": {},
   "outputs": [
    {
     "name": "stdout",
     "output_type": "stream",
     "text": [
      "The link to the file is: /wps/wcm/myconnect/db9ffca9-2e45-4b8a-8106-f17516e7ebc8/1b23dfb5-6beb-4fb9-aa96-be237332d8a8.pdf?MOD=AJPERES&CVID=mrWHwmo\n"
     ]
    }
   ],
   "source": [
    "root = ET.fromstring(r.text)\n",
    "lnk = root.find('atom:content/wcm:resourceUri', ns).text\n",
    "\n",
    "print(f'The link to the file is: {lnk}')"
   ]
  },
  {
   "cell_type": "code",
   "execution_count": 12,
   "metadata": {},
   "outputs": [
    {
     "name": "stdout",
     "output_type": "stream",
     "text": [
      "The full url is: http://portal9.home.parrill.net:10039/wps/wcm/myconnect/db9ffca9-2e45-4b8a-8106-f17516e7ebc8/1b23dfb5-6beb-4fb9-aa96-be237332d8a8.pdf?MOD=AJPERES&CVID=mrWHwmo\n"
     ]
    }
   ],
   "source": [
    "print(f'The full url is: {baseURL}{lnk}')"
   ]
  }
 ],
 "metadata": {
  "kernelspec": {
   "display_name": "Python 3",
   "language": "python",
   "name": "python3"
  },
  "language_info": {
   "codemirror_mode": {
    "name": "ipython",
    "version": 3
   },
   "file_extension": ".py",
   "mimetype": "text/x-python",
   "name": "python",
   "nbconvert_exporter": "python",
   "pygments_lexer": "ipython3",
   "version": "3.6.0"
  }
 },
 "nbformat": 4,
 "nbformat_minor": 2
}
